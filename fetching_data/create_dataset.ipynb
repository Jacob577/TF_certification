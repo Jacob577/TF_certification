{
 "cells": [
  {
   "cell_type": "code",
   "execution_count": 39,
   "metadata": {},
   "outputs": [],
   "source": [
    "import os\n",
    "import datetime\n",
    "\n",
    "import IPython\n",
    "import IPython.display\n",
    "import matplotlib as mpl\n",
    "import matplotlib.pyplot as plt\n",
    "import numpy as np\n",
    "import pandas as pd\n",
    "import seaborn as sns\n",
    "import tensorflow as tf\n",
    "\n",
    "mpl.rcParams['figure.figsize'] = (8, 6)\n",
    "mpl.rcParams['axes.grid'] = False\n"
   ]
  },
  {
   "cell_type": "code",
   "execution_count": 46,
   "metadata": {},
   "outputs": [
    {
     "name": "stdout",
     "output_type": "stream",
     "text": [
      "DatetimeIndex(['2022-01-01 00:00:00', '2022-01-01 00:01:00',\n",
      "               '2022-01-01 00:02:00', '2022-01-01 00:03:00',\n",
      "               '2022-01-01 00:04:00', '2022-01-01 00:05:00',\n",
      "               '2022-01-01 00:06:00', '2022-01-01 00:07:00',\n",
      "               '2022-01-01 00:08:00', '2022-01-01 00:09:00',\n",
      "               ...\n",
      "               '2022-01-01 23:46:00', '2022-01-01 23:47:00',\n",
      "               '2022-01-01 23:48:00', '2022-01-01 23:49:00',\n",
      "               '2022-01-01 23:50:00', '2022-01-01 23:51:00',\n",
      "               '2022-01-01 23:52:00', '2022-01-01 23:53:00',\n",
      "               '2022-01-01 23:54:00', '2022-01-01 23:55:00'],\n",
      "              dtype='datetime64[ns]', length=14360, freq=None)\n"
     ]
    }
   ],
   "source": [
    "from data import *\n",
    "column_list = [\"time\", \"open\", \"high\", \"low\", \"close\", \"tick_volume\", \"spread\", \"real_volume\"]\n",
    "\n",
    "# df = Data(symbol=\"EURUSD\", from_date=datetime(2022, 1, 1), \n",
    "#           to_date=datetime(2022, 1, 2))\n",
    "rates = mt5.copy_rates_range(\"EURUSD\", mt5.TIMEFRAME_M10, datetime(2022, 1, 1),datetime(2022, 1, 15))\n",
    "df = pd.DataFrame(rates, columns=column_list)\n",
    "# df = df.get_original_data()\n",
    "df.pop(\"real_volume\")\n",
    "\n",
    "# df = df[5::6]\n",
    "# for i in range(len(df[\"time\"])):\n",
    "#     df[\"time\"][i] = i\n",
    "# df = df.drop(columns=[\"real_volume\"])\n",
    "\n",
    "date_time = df.pop((\"time\"))\n",
    "start_date = pd.to_datetime('2022-01-01 00:00:00')\n",
    "date_time = start_date + pd.to_timedelta(date_time.index.tolist() * 10, unit='T')\n",
    "print(date_time)"
   ]
  },
  {
   "cell_type": "code",
   "execution_count": 36,
   "metadata": {},
   "outputs": [
    {
     "name": "stdout",
     "output_type": "stream",
     "text": [
      "         open     high      low    close  tick_volume  spread\n",
      "0     1.13755  1.13755  1.13755  1.13755            1      11\n",
      "1     1.13693  1.13693  1.13645  1.13674           49      31\n",
      "2     1.13674  1.13729  1.13669  1.13719           92      22\n",
      "3     1.13689  1.13717  1.13688  1.13708           61      61\n",
      "4     1.13705  1.13734  1.13699  1.13726          115      34\n",
      "...       ...      ...      ...      ...          ...     ...\n",
      "1431  1.14153  1.14167  1.14151  1.14153          131       0\n",
      "1432  1.14153  1.14164  1.14148  1.14154          170       0\n",
      "1433  1.14154  1.14163  1.14130  1.14145          206       0\n",
      "1434  1.14145  1.14175  1.14143  1.14147          317       0\n",
      "1435  1.14148  1.14153  1.14120  1.14140          432       0\n",
      "\n",
      "[1436 rows x 6 columns]\n"
     ]
    }
   ],
   "source": [
    "print(df)"
   ]
  },
  {
   "cell_type": "code",
   "execution_count": 27,
   "metadata": {},
   "outputs": [],
   "source": [
    "# df = Data(symbol=\"EURUSD\", from_date=datetime(2022, 1, 1), \n",
    "        #   to_date=datetime(2022, 2, 1))"
   ]
  },
  {
   "cell_type": "code",
   "execution_count": null,
   "metadata": {},
   "outputs": [],
   "source": []
  },
  {
   "cell_type": "code",
   "execution_count": null,
   "metadata": {},
   "outputs": [],
   "source": []
  }
 ],
 "metadata": {
  "kernelspec": {
   "display_name": "venv",
   "language": "python",
   "name": "python3"
  },
  "language_info": {
   "codemirror_mode": {
    "name": "ipython",
    "version": 3
   },
   "file_extension": ".py",
   "mimetype": "text/x-python",
   "name": "python",
   "nbconvert_exporter": "python",
   "pygments_lexer": "ipython3",
   "version": "3.10.6"
  },
  "orig_nbformat": 4
 },
 "nbformat": 4,
 "nbformat_minor": 2
}
