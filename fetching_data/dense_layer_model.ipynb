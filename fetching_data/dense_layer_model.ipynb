{
 "cells": [
  {
   "cell_type": "code",
   "execution_count": null,
   "metadata": {},
   "outputs": [],
   "source": [
    "from data import Data\n",
    "import matplotlib.pyplot as plt\n",
    "import numpy as np\n",
    "import pandas as pd\n",
    "from datetime import datetime\n",
    "import tensorflow as tf\n",
    "from tensorflow.keras.models import Sequential\n",
    "from tensorflow import keras\n",
    "from tensorflow.keras import layers"
   ]
  },
  {
   "cell_type": "code",
   "execution_count": null,
   "metadata": {},
   "outputs": [],
   "source": [
    "data = Data(from_date=datetime(2022, 1, 1), to_date=datetime(2022, 12, 15))\n",
    "dataset = data.normalize_data(depth=40, foreseeing=10, column_titel=\"close\")\n",
    "\n",
    "print(dataset)"
   ]
  },
  {
   "cell_type": "code",
   "execution_count": null,
   "metadata": {},
   "outputs": [],
   "source": [
    "X_DATA = []\n",
    "Y_DATA = []\n",
    "for i in dataset:\n",
    "    X_DATA.append(i[0])\n",
    "    Y_DATA.append([i[1][3]])"
   ]
  },
  {
   "cell_type": "code",
   "execution_count": null,
   "metadata": {},
   "outputs": [],
   "source": [
    "# Train a dense layer model:\n",
    "data_size = len(X_DATA)\n",
    "# print(int(data_size*0.7))\n",
    "train_data = (np.array(X_DATA[0:int(data_size*0.8)]), np.array(Y_DATA[0:int(data_size*0.8)]))\n",
    "\n",
    "val_data = (np.array(X_DATA[int(data_size*0.8)::]), np.array(Y_DATA[int(data_size*0.8)::]))\n",
    "\n",
    "# test = (np.random.random((1000, 50)), np.random.randint(0, 2, (1000, 1)))\n",
    "# train_data=test\n",
    "# train_data[0].reshape(-1, 40)\n",
    "\n",
    "# print(test)\n",
    "\n",
    "\n",
    "train_data_reshaped = np.expand_dims(train_data[0], axis=1)  # Reshape to (None, 1, 40)\n",
    "train_data_reshaped = np.tile(train_data_reshaped, (1, train_data[0].shape[0], 1))  # Reshape to (None, 152, 40)\n",
    "val_data_reshaped = np.expand_dims(val_data[0], axis=1)  # Reshape to (None, 1, 40)\n",
    "val_data_reshaped = np.tile(val_data_reshaped, (1, val_data[0].shape[0], 1))  # Reshape to (None, 152, 40)\n",
    "\n",
    "\n",
    "print(train_data_reshaped)\n",
    "train_data_reshaped[0].shape\n"
   ]
  },
  {
   "cell_type": "code",
   "execution_count": null,
   "metadata": {},
   "outputs": [],
   "source": [
    "model = keras.Sequential(\n",
    "    [\n",
    "        layers.Dense(40, activation='relu'),\n",
    "\n",
    "        layers.Dropout(0.1),\n",
    "        layers.Dense(124, activation='relu'),\n",
    "\n",
    "        layers.Dropout(0.1),\n",
    "        layers.Dense(80, activation='relu'),\n",
    "        layers.Dense(20, activation='relu'),\n",
    "        layers.Dense(1, activation='sigmoid')\n",
    "    ]\n",
    ")\n",
    "model.compile(loss='mean_squared_logarithmic_error', optimizer='adam', metrics=['mae'])\n",
    "early_stopping = keras.callbacks.EarlyStopping(patience=10)\n",
    "# model.summary()\n",
    "# \n",
    "history = model.fit(train_data_reshaped, train_data[1].astype('float32'),\n",
    "                    epochs=200, batch_size=20, validation_data=val_data,\n",
    "                    callbacks=[early_stopping])\n"
   ]
  },
  {
   "cell_type": "code",
   "execution_count": null,
   "metadata": {},
   "outputs": [],
   "source": []
  },
  {
   "cell_type": "code",
   "execution_count": null,
   "metadata": {},
   "outputs": [],
   "source": [
    "print(train_data)"
   ]
  },
  {
   "cell_type": "code",
   "execution_count": null,
   "metadata": {},
   "outputs": [],
   "source": []
  }
 ],
 "metadata": {
  "kernelspec": {
   "display_name": "venv",
   "language": "python",
   "name": "python3"
  },
  "language_info": {
   "codemirror_mode": {
    "name": "ipython",
    "version": 3
   },
   "file_extension": ".py",
   "mimetype": "text/x-python",
   "name": "python",
   "nbconvert_exporter": "python",
   "pygments_lexer": "ipython3",
   "version": "3.10.6"
  },
  "orig_nbformat": 4
 },
 "nbformat": 4,
 "nbformat_minor": 2
}
