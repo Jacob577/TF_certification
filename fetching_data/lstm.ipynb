{
 "cells": [
  {
   "cell_type": "code",
   "execution_count": 21,
   "metadata": {},
   "outputs": [],
   "source": [
    "from data import Data\n",
    "import matplotlib.pyplot as plt\n",
    "import numpy as np\n",
    "import pandas as pd\n",
    "from datetime import datetime\n",
    "import tensorflow as tf\n",
    "from tensorflow.keras.models import Sequential\n",
    "from tensorflow import keras\n",
    "from tensorflow.keras import layers"
   ]
  },
  {
   "cell_type": "code",
   "execution_count": 36,
   "metadata": {},
   "outputs": [
    {
     "data": {
      "text/plain": [
       "(555, 40)"
      ]
     },
     "execution_count": 36,
     "metadata": {},
     "output_type": "execute_result"
    }
   ],
   "source": [
    "data = Data(from_date=datetime(2022, 1, 1), to_date=datetime(2022, 2, 15))\n",
    "dataset = data.normalize_data(depth=40, foreseeing=10, column_titel=\"close\")\n",
    "\n",
    "X_DATA = []\n",
    "Y_DATA = []\n",
    "for i in dataset:\n",
    "    X_DATA.append(i[0])\n",
    "    Y_DATA.append([i[1][3]])\n",
    "\n",
    "data_size = len(X_DATA)\n",
    "train_data = (np.array(X_DATA[0:int(data_size*0.8)]), np.array(Y_DATA[0:int(data_size*0.8)]))\n",
    "valid_data = (np.array(X_DATA[int(data_size*0.8)::]), np.array(Y_DATA[int(data_size*0.8)::]))\n",
    "\n",
    "train_data_reshaped = np.expand_dims(train_data[0], axis=1) \n",
    "train_data_reshaped = np.tile(train_data_reshaped, (1, train_data[0].shape[0], 1))\n",
    "\n",
    "# valid_data_reshaped = np.expand_dims(valid_data[0], axis=1) \n",
    "# valid_data_reshaped = np.tile(valid_data_reshaped, (1, valid_data[0].shape[0], 1))\n",
    "train_data[0].shape"
   ]
  },
  {
   "cell_type": "code",
   "execution_count": 37,
   "metadata": {},
   "outputs": [],
   "source": [
    "# class ResetStatesCallback(keras.callbacks.Callback):\n",
    "#   def on_epoch_begin(self, epoch, logs):\n",
    "#     self.model.reset_states()"
   ]
  },
  {
   "cell_type": "code",
   "execution_count": 38,
   "metadata": {},
   "outputs": [
    {
     "ename": "ValueError",
     "evalue": "If a RNN is stateful, it needs to know its batch size. Specify the batch size of your input tensors: \n- If using a Sequential model, specify the batch size by passing a `batch_input_shape` argument to your first layer.\n- If using the functional API, specify the batch size by passing a `batch_shape` argument to your Input layer.",
     "output_type": "error",
     "traceback": [
      "\u001b[1;31m---------------------------------------------------------------------------\u001b[0m",
      "\u001b[1;31mValueError\u001b[0m                                Traceback (most recent call last)",
      "Cell \u001b[1;32mIn[38], line 1\u001b[0m\n\u001b[1;32m----> 1\u001b[0m model \u001b[39m=\u001b[39m keras\u001b[39m.\u001b[39;49mmodels\u001b[39m.\u001b[39;49mSequential([\n\u001b[0;32m      2\u001b[0m   keras\u001b[39m.\u001b[39;49mlayers\u001b[39m.\u001b[39;49mLSTM(\u001b[39m40\u001b[39;49m, return_sequences\u001b[39m=\u001b[39;49m\u001b[39mTrue\u001b[39;49;00m, stateful\u001b[39m=\u001b[39;49m\u001b[39mTrue\u001b[39;49;00m, batch_input_shape\u001b[39m=\u001b[39;49m(\u001b[39mNone\u001b[39;49;00m, \u001b[39m555\u001b[39;49m, \u001b[39m40\u001b[39;49m)),\n\u001b[0;32m      3\u001b[0m   keras\u001b[39m.\u001b[39;49mlayers\u001b[39m.\u001b[39;49mLSTM(\u001b[39m100\u001b[39;49m, return_sequences\u001b[39m=\u001b[39;49m\u001b[39mTrue\u001b[39;49;00m, stateful\u001b[39m=\u001b[39;49m\u001b[39mTrue\u001b[39;49;00m),\n\u001b[0;32m      4\u001b[0m   keras\u001b[39m.\u001b[39;49mlayers\u001b[39m.\u001b[39;49mDense(\u001b[39m1\u001b[39;49m),\n\u001b[0;32m      5\u001b[0m   keras\u001b[39m.\u001b[39;49mlayers\u001b[39m.\u001b[39;49mLambda(\u001b[39mlambda\u001b[39;49;00m x: x \u001b[39m*\u001b[39;49m \u001b[39m200.0\u001b[39;49m)\n\u001b[0;32m      6\u001b[0m ])\n\u001b[0;32m      7\u001b[0m optimizer \u001b[39m=\u001b[39m keras\u001b[39m.\u001b[39moptimizers\u001b[39m.\u001b[39mSGD(learning_rate\u001b[39m=\u001b[39m\u001b[39m5e-7\u001b[39m, momentum\u001b[39m=\u001b[39m\u001b[39m0.9\u001b[39m)\n\u001b[0;32m      8\u001b[0m model\u001b[39m.\u001b[39mcompile(loss\u001b[39m=\u001b[39mkeras\u001b[39m.\u001b[39mlosses\u001b[39m.\u001b[39mHuber(),\n\u001b[0;32m      9\u001b[0m               optimizer\u001b[39m=\u001b[39moptimizer,\n\u001b[0;32m     10\u001b[0m               metrics\u001b[39m=\u001b[39m[\u001b[39m\"\u001b[39m\u001b[39mmae\u001b[39m\u001b[39m\"\u001b[39m])\n",
      "File \u001b[1;32mc:\\Users\\LocalAdmin\\Documents\\Personal\\trade\\fetching_data\\venv\\lib\\site-packages\\tensorflow\\python\\trackable\\base.py:205\u001b[0m, in \u001b[0;36mno_automatic_dependency_tracking.<locals>._method_wrapper\u001b[1;34m(self, *args, **kwargs)\u001b[0m\n\u001b[0;32m    203\u001b[0m \u001b[39mself\u001b[39m\u001b[39m.\u001b[39m_self_setattr_tracking \u001b[39m=\u001b[39m \u001b[39mFalse\u001b[39;00m  \u001b[39m# pylint: disable=protected-access\u001b[39;00m\n\u001b[0;32m    204\u001b[0m \u001b[39mtry\u001b[39;00m:\n\u001b[1;32m--> 205\u001b[0m   result \u001b[39m=\u001b[39m method(\u001b[39mself\u001b[39m, \u001b[39m*\u001b[39margs, \u001b[39m*\u001b[39m\u001b[39m*\u001b[39mkwargs)\n\u001b[0;32m    206\u001b[0m \u001b[39mfinally\u001b[39;00m:\n\u001b[0;32m    207\u001b[0m   \u001b[39mself\u001b[39m\u001b[39m.\u001b[39m_self_setattr_tracking \u001b[39m=\u001b[39m previous_value  \u001b[39m# pylint: disable=protected-access\u001b[39;00m\n",
      "File \u001b[1;32mc:\\Users\\LocalAdmin\\Documents\\Personal\\trade\\fetching_data\\venv\\lib\\site-packages\\keras\\utils\\traceback_utils.py:70\u001b[0m, in \u001b[0;36mfilter_traceback.<locals>.error_handler\u001b[1;34m(*args, **kwargs)\u001b[0m\n\u001b[0;32m     67\u001b[0m     filtered_tb \u001b[39m=\u001b[39m _process_traceback_frames(e\u001b[39m.\u001b[39m__traceback__)\n\u001b[0;32m     68\u001b[0m     \u001b[39m# To get the full stack trace, call:\u001b[39;00m\n\u001b[0;32m     69\u001b[0m     \u001b[39m# `tf.debugging.disable_traceback_filtering()`\u001b[39;00m\n\u001b[1;32m---> 70\u001b[0m     \u001b[39mraise\u001b[39;00m e\u001b[39m.\u001b[39mwith_traceback(filtered_tb) \u001b[39mfrom\u001b[39;00m \u001b[39mNone\u001b[39;00m\n\u001b[0;32m     71\u001b[0m \u001b[39mfinally\u001b[39;00m:\n\u001b[0;32m     72\u001b[0m     \u001b[39mdel\u001b[39;00m filtered_tb\n",
      "File \u001b[1;32mc:\\Users\\LocalAdmin\\Documents\\Personal\\trade\\fetching_data\\venv\\lib\\site-packages\\keras\\layers\\rnn\\base_rnn.py:876\u001b[0m, in \u001b[0;36mRNN.reset_states\u001b[1;34m(self, states)\u001b[0m\n\u001b[0;32m    874\u001b[0m     batch_size \u001b[39m=\u001b[39m spec_shape[\u001b[39m1\u001b[39m] \u001b[39mif\u001b[39;00m \u001b[39mself\u001b[39m\u001b[39m.\u001b[39mtime_major \u001b[39melse\u001b[39;00m spec_shape[\u001b[39m0\u001b[39m]\n\u001b[0;32m    875\u001b[0m \u001b[39mif\u001b[39;00m \u001b[39mnot\u001b[39;00m batch_size:\n\u001b[1;32m--> 876\u001b[0m     \u001b[39mraise\u001b[39;00m \u001b[39mValueError\u001b[39;00m(\n\u001b[0;32m    877\u001b[0m         \u001b[39m\"\u001b[39m\u001b[39mIf a RNN is stateful, it needs to know \u001b[39m\u001b[39m\"\u001b[39m\n\u001b[0;32m    878\u001b[0m         \u001b[39m\"\u001b[39m\u001b[39mits batch size. Specify the batch size \u001b[39m\u001b[39m\"\u001b[39m\n\u001b[0;32m    879\u001b[0m         \u001b[39m\"\u001b[39m\u001b[39mof your input tensors: \u001b[39m\u001b[39m\\n\u001b[39;00m\u001b[39m\"\u001b[39m\n\u001b[0;32m    880\u001b[0m         \u001b[39m\"\u001b[39m\u001b[39m- If using a Sequential model, \u001b[39m\u001b[39m\"\u001b[39m\n\u001b[0;32m    881\u001b[0m         \u001b[39m\"\u001b[39m\u001b[39mspecify the batch size by passing \u001b[39m\u001b[39m\"\u001b[39m\n\u001b[0;32m    882\u001b[0m         \u001b[39m\"\u001b[39m\u001b[39ma `batch_input_shape` \u001b[39m\u001b[39m\"\u001b[39m\n\u001b[0;32m    883\u001b[0m         \u001b[39m\"\u001b[39m\u001b[39margument to your first layer.\u001b[39m\u001b[39m\\n\u001b[39;00m\u001b[39m\"\u001b[39m\n\u001b[0;32m    884\u001b[0m         \u001b[39m\"\u001b[39m\u001b[39m- If using the functional API, specify \u001b[39m\u001b[39m\"\u001b[39m\n\u001b[0;32m    885\u001b[0m         \u001b[39m\"\u001b[39m\u001b[39mthe batch size by passing a \u001b[39m\u001b[39m\"\u001b[39m\n\u001b[0;32m    886\u001b[0m         \u001b[39m\"\u001b[39m\u001b[39m`batch_shape` argument to your Input layer.\u001b[39m\u001b[39m\"\u001b[39m\n\u001b[0;32m    887\u001b[0m     )\n\u001b[0;32m    888\u001b[0m \u001b[39m# initialize state if None\u001b[39;00m\n\u001b[0;32m    889\u001b[0m \u001b[39mif\u001b[39;00m tf\u001b[39m.\u001b[39mnest\u001b[39m.\u001b[39mflatten(\u001b[39mself\u001b[39m\u001b[39m.\u001b[39mstates)[\u001b[39m0\u001b[39m] \u001b[39mis\u001b[39;00m \u001b[39mNone\u001b[39;00m:\n",
      "\u001b[1;31mValueError\u001b[0m: If a RNN is stateful, it needs to know its batch size. Specify the batch size of your input tensors: \n- If using a Sequential model, specify the batch size by passing a `batch_input_shape` argument to your first layer.\n- If using the functional API, specify the batch size by passing a `batch_shape` argument to your Input layer."
     ]
    }
   ],
   "source": [
    "model = keras.models.Sequential([\n",
    "  keras.layers.LSTM(40, return_sequences=True, stateful=True, batch_input_shape=(None, 555, 40)),\n",
    "  keras.layers.LSTM(100, return_sequences=True, stateful=True),\n",
    "  keras.layers.Dense(1),\n",
    "  keras.layers.Lambda(lambda x: x * 200.0)\n",
    "])\n",
    "optimizer = keras.optimizers.SGD(learning_rate=5e-7, momentum=0.9)\n",
    "model.compile(loss=keras.losses.Huber(),\n",
    "              optimizer=optimizer,\n",
    "              metrics=[\"mae\"])\n",
    "# reset_states = ResetStatesCallback()\n",
    "# model_checkpoint = keras.callbacks.ModelCheckpoint(\n",
    "#     \"my_checkpoint.h5\", save_best_only=True)\n",
    "early_stopping = keras.callbacks.EarlyStopping(patience=50)\n",
    "model.fit(train_data_reshaped, train_data[1], epochs=500)"
   ]
  },
  {
   "cell_type": "code",
   "execution_count": null,
   "metadata": {},
   "outputs": [],
   "source": []
  },
  {
   "cell_type": "code",
   "execution_count": null,
   "metadata": {},
   "outputs": [],
   "source": []
  }
 ],
 "metadata": {
  "kernelspec": {
   "display_name": "venv",
   "language": "python",
   "name": "python3"
  },
  "language_info": {
   "codemirror_mode": {
    "name": "ipython",
    "version": 3
   },
   "file_extension": ".py",
   "mimetype": "text/x-python",
   "name": "python",
   "nbconvert_exporter": "python",
   "pygments_lexer": "ipython3",
   "version": "3.10.6"
  },
  "orig_nbformat": 4
 },
 "nbformat": 4,
 "nbformat_minor": 2
}
